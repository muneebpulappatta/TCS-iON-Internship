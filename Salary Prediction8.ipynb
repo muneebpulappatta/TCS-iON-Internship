{
 "cells": [
  {
   "cell_type": "code",
   "execution_count": 1,
   "id": "a1ab0a20",
   "metadata": {},
   "outputs": [],
   "source": [
    "import pandas as pd\n",
    "import numpy as np\n",
    "import  matplotlib.pyplot as plt\n",
    "import seaborn as sns\n",
    "\n",
    "import warnings\n",
    "warnings.filterwarnings(\"ignore\")"
   ]
  },
  {
   "cell_type": "code",
   "execution_count": 2,
   "id": "24463a07",
   "metadata": {},
   "outputs": [],
   "source": [
    "df = pd.read_csv('HR_comma_sep.csv')"
   ]
  },
  {
   "cell_type": "code",
   "execution_count": 3,
   "id": "48badc7f",
   "metadata": {},
   "outputs": [
    {
     "data": {
      "text/html": [
       "<div>\n",
       "<style scoped>\n",
       "    .dataframe tbody tr th:only-of-type {\n",
       "        vertical-align: middle;\n",
       "    }\n",
       "\n",
       "    .dataframe tbody tr th {\n",
       "        vertical-align: top;\n",
       "    }\n",
       "\n",
       "    .dataframe thead th {\n",
       "        text-align: right;\n",
       "    }\n",
       "</style>\n",
       "<table border=\"1\" class=\"dataframe\">\n",
       "  <thead>\n",
       "    <tr style=\"text-align: right;\">\n",
       "      <th></th>\n",
       "      <th>satisfaction_level</th>\n",
       "      <th>last_evaluation</th>\n",
       "      <th>number_project</th>\n",
       "      <th>average_montly_hours</th>\n",
       "      <th>time_spend_company</th>\n",
       "      <th>Work_accident</th>\n",
       "      <th>left</th>\n",
       "      <th>promotion_last_5years</th>\n",
       "      <th>sales</th>\n",
       "      <th>salary</th>\n",
       "    </tr>\n",
       "  </thead>\n",
       "  <tbody>\n",
       "    <tr>\n",
       "      <th>0</th>\n",
       "      <td>0.38</td>\n",
       "      <td>0.53</td>\n",
       "      <td>2</td>\n",
       "      <td>157</td>\n",
       "      <td>3</td>\n",
       "      <td>0</td>\n",
       "      <td>1</td>\n",
       "      <td>0</td>\n",
       "      <td>sales</td>\n",
       "      <td>low</td>\n",
       "    </tr>\n",
       "    <tr>\n",
       "      <th>1</th>\n",
       "      <td>0.80</td>\n",
       "      <td>0.86</td>\n",
       "      <td>5</td>\n",
       "      <td>262</td>\n",
       "      <td>6</td>\n",
       "      <td>0</td>\n",
       "      <td>1</td>\n",
       "      <td>0</td>\n",
       "      <td>sales</td>\n",
       "      <td>medium</td>\n",
       "    </tr>\n",
       "    <tr>\n",
       "      <th>2</th>\n",
       "      <td>0.11</td>\n",
       "      <td>0.88</td>\n",
       "      <td>7</td>\n",
       "      <td>272</td>\n",
       "      <td>4</td>\n",
       "      <td>0</td>\n",
       "      <td>1</td>\n",
       "      <td>0</td>\n",
       "      <td>sales</td>\n",
       "      <td>medium</td>\n",
       "    </tr>\n",
       "    <tr>\n",
       "      <th>3</th>\n",
       "      <td>0.72</td>\n",
       "      <td>0.87</td>\n",
       "      <td>5</td>\n",
       "      <td>223</td>\n",
       "      <td>5</td>\n",
       "      <td>0</td>\n",
       "      <td>1</td>\n",
       "      <td>0</td>\n",
       "      <td>sales</td>\n",
       "      <td>low</td>\n",
       "    </tr>\n",
       "    <tr>\n",
       "      <th>4</th>\n",
       "      <td>0.37</td>\n",
       "      <td>0.52</td>\n",
       "      <td>2</td>\n",
       "      <td>159</td>\n",
       "      <td>3</td>\n",
       "      <td>0</td>\n",
       "      <td>1</td>\n",
       "      <td>0</td>\n",
       "      <td>sales</td>\n",
       "      <td>low</td>\n",
       "    </tr>\n",
       "  </tbody>\n",
       "</table>\n",
       "</div>"
      ],
      "text/plain": [
       "   satisfaction_level  last_evaluation  number_project  average_montly_hours  \\\n",
       "0                0.38             0.53               2                   157   \n",
       "1                0.80             0.86               5                   262   \n",
       "2                0.11             0.88               7                   272   \n",
       "3                0.72             0.87               5                   223   \n",
       "4                0.37             0.52               2                   159   \n",
       "\n",
       "   time_spend_company  Work_accident  left  promotion_last_5years  sales  \\\n",
       "0                   3              0     1                      0  sales   \n",
       "1                   6              0     1                      0  sales   \n",
       "2                   4              0     1                      0  sales   \n",
       "3                   5              0     1                      0  sales   \n",
       "4                   3              0     1                      0  sales   \n",
       "\n",
       "   salary  \n",
       "0     low  \n",
       "1  medium  \n",
       "2  medium  \n",
       "3     low  \n",
       "4     low  "
      ]
     },
     "execution_count": 3,
     "metadata": {},
     "output_type": "execute_result"
    }
   ],
   "source": [
    "df.head()"
   ]
  },
  {
   "cell_type": "code",
   "execution_count": 4,
   "id": "69489237",
   "metadata": {
    "scrolled": true
   },
   "outputs": [
    {
     "name": "stdout",
     "output_type": "stream",
     "text": [
      "<class 'pandas.core.frame.DataFrame'>\n",
      "RangeIndex: 14999 entries, 0 to 14998\n",
      "Data columns (total 10 columns):\n",
      " #   Column                 Non-Null Count  Dtype  \n",
      "---  ------                 --------------  -----  \n",
      " 0   satisfaction_level     14999 non-null  float64\n",
      " 1   last_evaluation        14999 non-null  float64\n",
      " 2   number_project         14999 non-null  int64  \n",
      " 3   average_montly_hours   14999 non-null  int64  \n",
      " 4   time_spend_company     14999 non-null  int64  \n",
      " 5   Work_accident          14999 non-null  int64  \n",
      " 6   left                   14999 non-null  int64  \n",
      " 7   promotion_last_5years  14999 non-null  int64  \n",
      " 8   sales                  14999 non-null  object \n",
      " 9   salary                 14999 non-null  object \n",
      "dtypes: float64(2), int64(6), object(2)\n",
      "memory usage: 1.1+ MB\n"
     ]
    }
   ],
   "source": [
    "#Checking data info\n",
    "df.info()"
   ]
  },
  {
   "cell_type": "markdown",
   "id": "98310ced",
   "metadata": {},
   "source": [
    "6 Datas are numerical type and 9 datas are object type"
   ]
  },
  {
   "cell_type": "code",
   "execution_count": 5,
   "id": "40da9c15",
   "metadata": {
    "scrolled": false
   },
   "outputs": [
    {
     "data": {
      "text/plain": [
       "satisfaction_level       0\n",
       "last_evaluation          0\n",
       "number_project           0\n",
       "average_montly_hours     0\n",
       "time_spend_company       0\n",
       "Work_accident            0\n",
       "left                     0\n",
       "promotion_last_5years    0\n",
       "sales                    0\n",
       "salary                   0\n",
       "dtype: int64"
      ]
     },
     "execution_count": 5,
     "metadata": {},
     "output_type": "execute_result"
    }
   ],
   "source": [
    "#checking null values in each column\n",
    "df.isna().sum()"
   ]
  },
  {
   "cell_type": "markdown",
   "id": "26f982d3",
   "metadata": {},
   "source": [
    "# Exploratory Data Analysis"
   ]
  },
  {
   "cell_type": "code",
   "execution_count": 6,
   "id": "4165e11c",
   "metadata": {},
   "outputs": [
    {
     "data": {
      "text/html": [
       "<div>\n",
       "<style scoped>\n",
       "    .dataframe tbody tr th:only-of-type {\n",
       "        vertical-align: middle;\n",
       "    }\n",
       "\n",
       "    .dataframe tbody tr th {\n",
       "        vertical-align: top;\n",
       "    }\n",
       "\n",
       "    .dataframe thead th {\n",
       "        text-align: right;\n",
       "    }\n",
       "</style>\n",
       "<table border=\"1\" class=\"dataframe\">\n",
       "  <thead>\n",
       "    <tr style=\"text-align: right;\">\n",
       "      <th></th>\n",
       "      <th>satisfaction_level</th>\n",
       "      <th>last_evaluation</th>\n",
       "      <th>number_project</th>\n",
       "      <th>average_montly_hours</th>\n",
       "      <th>time_spend_company</th>\n",
       "      <th>Work_accident</th>\n",
       "      <th>left</th>\n",
       "      <th>promotion_last_5years</th>\n",
       "    </tr>\n",
       "  </thead>\n",
       "  <tbody>\n",
       "    <tr>\n",
       "      <th>satisfaction_level</th>\n",
       "      <td>1.000000</td>\n",
       "      <td>0.105021</td>\n",
       "      <td>-0.142970</td>\n",
       "      <td>-0.020048</td>\n",
       "      <td>-0.100866</td>\n",
       "      <td>0.058697</td>\n",
       "      <td>-0.388375</td>\n",
       "      <td>0.025605</td>\n",
       "    </tr>\n",
       "    <tr>\n",
       "      <th>last_evaluation</th>\n",
       "      <td>0.105021</td>\n",
       "      <td>1.000000</td>\n",
       "      <td>0.349333</td>\n",
       "      <td>0.339742</td>\n",
       "      <td>0.131591</td>\n",
       "      <td>-0.007104</td>\n",
       "      <td>0.006567</td>\n",
       "      <td>-0.008684</td>\n",
       "    </tr>\n",
       "    <tr>\n",
       "      <th>number_project</th>\n",
       "      <td>-0.142970</td>\n",
       "      <td>0.349333</td>\n",
       "      <td>1.000000</td>\n",
       "      <td>0.417211</td>\n",
       "      <td>0.196786</td>\n",
       "      <td>-0.004741</td>\n",
       "      <td>0.023787</td>\n",
       "      <td>-0.006064</td>\n",
       "    </tr>\n",
       "    <tr>\n",
       "      <th>average_montly_hours</th>\n",
       "      <td>-0.020048</td>\n",
       "      <td>0.339742</td>\n",
       "      <td>0.417211</td>\n",
       "      <td>1.000000</td>\n",
       "      <td>0.127755</td>\n",
       "      <td>-0.010143</td>\n",
       "      <td>0.071287</td>\n",
       "      <td>-0.003544</td>\n",
       "    </tr>\n",
       "    <tr>\n",
       "      <th>time_spend_company</th>\n",
       "      <td>-0.100866</td>\n",
       "      <td>0.131591</td>\n",
       "      <td>0.196786</td>\n",
       "      <td>0.127755</td>\n",
       "      <td>1.000000</td>\n",
       "      <td>0.002120</td>\n",
       "      <td>0.144822</td>\n",
       "      <td>0.067433</td>\n",
       "    </tr>\n",
       "    <tr>\n",
       "      <th>Work_accident</th>\n",
       "      <td>0.058697</td>\n",
       "      <td>-0.007104</td>\n",
       "      <td>-0.004741</td>\n",
       "      <td>-0.010143</td>\n",
       "      <td>0.002120</td>\n",
       "      <td>1.000000</td>\n",
       "      <td>-0.154622</td>\n",
       "      <td>0.039245</td>\n",
       "    </tr>\n",
       "    <tr>\n",
       "      <th>left</th>\n",
       "      <td>-0.388375</td>\n",
       "      <td>0.006567</td>\n",
       "      <td>0.023787</td>\n",
       "      <td>0.071287</td>\n",
       "      <td>0.144822</td>\n",
       "      <td>-0.154622</td>\n",
       "      <td>1.000000</td>\n",
       "      <td>-0.061788</td>\n",
       "    </tr>\n",
       "    <tr>\n",
       "      <th>promotion_last_5years</th>\n",
       "      <td>0.025605</td>\n",
       "      <td>-0.008684</td>\n",
       "      <td>-0.006064</td>\n",
       "      <td>-0.003544</td>\n",
       "      <td>0.067433</td>\n",
       "      <td>0.039245</td>\n",
       "      <td>-0.061788</td>\n",
       "      <td>1.000000</td>\n",
       "    </tr>\n",
       "  </tbody>\n",
       "</table>\n",
       "</div>"
      ],
      "text/plain": [
       "                       satisfaction_level  last_evaluation  number_project  \\\n",
       "satisfaction_level               1.000000         0.105021       -0.142970   \n",
       "last_evaluation                  0.105021         1.000000        0.349333   \n",
       "number_project                  -0.142970         0.349333        1.000000   \n",
       "average_montly_hours            -0.020048         0.339742        0.417211   \n",
       "time_spend_company              -0.100866         0.131591        0.196786   \n",
       "Work_accident                    0.058697        -0.007104       -0.004741   \n",
       "left                            -0.388375         0.006567        0.023787   \n",
       "promotion_last_5years            0.025605        -0.008684       -0.006064   \n",
       "\n",
       "                       average_montly_hours  time_spend_company  \\\n",
       "satisfaction_level                -0.020048           -0.100866   \n",
       "last_evaluation                    0.339742            0.131591   \n",
       "number_project                     0.417211            0.196786   \n",
       "average_montly_hours               1.000000            0.127755   \n",
       "time_spend_company                 0.127755            1.000000   \n",
       "Work_accident                     -0.010143            0.002120   \n",
       "left                               0.071287            0.144822   \n",
       "promotion_last_5years             -0.003544            0.067433   \n",
       "\n",
       "                       Work_accident      left  promotion_last_5years  \n",
       "satisfaction_level          0.058697 -0.388375               0.025605  \n",
       "last_evaluation            -0.007104  0.006567              -0.008684  \n",
       "number_project             -0.004741  0.023787              -0.006064  \n",
       "average_montly_hours       -0.010143  0.071287              -0.003544  \n",
       "time_spend_company          0.002120  0.144822               0.067433  \n",
       "Work_accident               1.000000 -0.154622               0.039245  \n",
       "left                       -0.154622  1.000000              -0.061788  \n",
       "promotion_last_5years       0.039245 -0.061788               1.000000  "
      ]
     },
     "execution_count": 6,
     "metadata": {},
     "output_type": "execute_result"
    }
   ],
   "source": [
    "df.corr()"
   ]
  },
  {
   "cell_type": "code",
   "execution_count": 7,
   "id": "ce00e647",
   "metadata": {
    "scrolled": true
   },
   "outputs": [
    {
     "data": {
      "image/png": "[encoded data removed]",
      "text/plain": [
       "<Figure size 2880x5760 with 10 Axes>"
      ]
     },
     "metadata": {
      "needs_background": "light"
     },
     "output_type": "display_data"
    }
   ],
   "source": [
    "def plot_data(df, row, col):\n",
    "    plt.figure(figsize=(40,80));\n",
    "    for i, star in enumerate(df):\n",
    "        plt.subplot(row,col, i+1)\n",
    "        if df[star].dtypes == 'object':\n",
    "            sns.countplot(y=df[star])\n",
    "            plt.xticks(rotation=90)\n",
    "            plt.tight_layout();\n",
    "            plt.xlabel(star);\n",
    "        else:\n",
    "            sns.distplot(x=df[star])\n",
    "            plt.tight_layout();\n",
    "            plt.xlabel(star);\n",
    "        \n",
    "plot_data(df,8,2)"
   ]
  },
  {
   "cell_type": "code",
   "execution_count": 8,
   "id": "1f56dd82",
   "metadata": {},
   "outputs": [
    {
     "data": {
      "text/html": [
       "<style type=\"text/css\">\n",
       "#T_04268_row0_col0 {\n",
       "  background-color: #d4ea66;\n",
       "  color: #000000;\n",
       "}\n",
       "#T_04268_row0_col1 {\n",
       "  background-color: #c6e266;\n",
       "  color: #000000;\n",
       "}\n",
       "#T_04268_row0_col2 {\n",
       "  background-color: #cce666;\n",
       "  color: #000000;\n",
       "}\n",
       "#T_04268_row1_col0 {\n",
       "  background-color: #f9fc66;\n",
       "  color: #000000;\n",
       "}\n",
       "#T_04268_row1_col1, #T_04268_row1_col2, #T_04268_row5_col2 {\n",
       "  background-color: #e7f366;\n",
       "  color: #000000;\n",
       "}\n",
       "#T_04268_row2_col0 {\n",
       "  background-color: #deee66;\n",
       "  color: #000000;\n",
       "}\n",
       "#T_04268_row2_col1 {\n",
       "  background-color: #e8f466;\n",
       "  color: #000000;\n",
       "}\n",
       "#T_04268_row2_col2 {\n",
       "  background-color: #edf666;\n",
       "  color: #000000;\n",
       "}\n",
       "#T_04268_row3_col0, #T_04268_row4_col1, #T_04268_row4_col2 {\n",
       "  background-color: #ffff66;\n",
       "  color: #000000;\n",
       "}\n",
       "#T_04268_row3_col1 {\n",
       "  background-color: #ebf566;\n",
       "  color: #000000;\n",
       "}\n",
       "#T_04268_row3_col2 {\n",
       "  background-color: #e9f466;\n",
       "  color: #000000;\n",
       "}\n",
       "#T_04268_row4_col0 {\n",
       "  background-color: #329866;\n",
       "  color: #f1f1f1;\n",
       "}\n",
       "#T_04268_row5_col0 {\n",
       "  background-color: #d7eb66;\n",
       "  color: #000000;\n",
       "}\n",
       "#T_04268_row5_col1 {\n",
       "  background-color: #e2f066;\n",
       "  color: #000000;\n",
       "}\n",
       "#T_04268_row6_col0, #T_04268_row6_col2 {\n",
       "  background-color: #e5f266;\n",
       "  color: #000000;\n",
       "}\n",
       "#T_04268_row6_col1 {\n",
       "  background-color: #dbed66;\n",
       "  color: #000000;\n",
       "}\n",
       "#T_04268_row7_col0, #T_04268_row7_col1, #T_04268_row7_col2 {\n",
       "  background-color: #008066;\n",
       "  color: #f1f1f1;\n",
       "}\n",
       "#T_04268_row8_col0 {\n",
       "  background-color: #92c866;\n",
       "  color: #000000;\n",
       "}\n",
       "#T_04268_row8_col1 {\n",
       "  background-color: #7fbf66;\n",
       "  color: #000000;\n",
       "}\n",
       "#T_04268_row8_col2 {\n",
       "  background-color: #89c466;\n",
       "  color: #000000;\n",
       "}\n",
       "#T_04268_row9_col0 {\n",
       "  background-color: #4da666;\n",
       "  color: #f1f1f1;\n",
       "}\n",
       "#T_04268_row9_col1 {\n",
       "  background-color: #60b066;\n",
       "  color: #f1f1f1;\n",
       "}\n",
       "#T_04268_row9_col2 {\n",
       "  background-color: #67b366;\n",
       "  color: #f1f1f1;\n",
       "}\n",
       "</style>\n",
       "<table id=\"T_04268\">\n",
       "  <thead>\n",
       "    <tr>\n",
       "      <th class=\"index_name level0\" >salary</th>\n",
       "      <th id=\"T_04268_level0_col0\" class=\"col_heading level0 col0\" >high</th>\n",
       "      <th id=\"T_04268_level0_col1\" class=\"col_heading level0 col1\" >low</th>\n",
       "      <th id=\"T_04268_level0_col2\" class=\"col_heading level0 col2\" >medium</th>\n",
       "    </tr>\n",
       "    <tr>\n",
       "      <th class=\"index_name level0\" >sales</th>\n",
       "      <th class=\"blank col0\" >&nbsp;</th>\n",
       "      <th class=\"blank col1\" >&nbsp;</th>\n",
       "      <th class=\"blank col2\" >&nbsp;</th>\n",
       "    </tr>\n",
       "  </thead>\n",
       "  <tbody>\n",
       "    <tr>\n",
       "      <th id=\"T_04268_level0_row0\" class=\"row_heading level0 row0\" >IT</th>\n",
       "      <td id=\"T_04268_row0_col0\" class=\"data row0 col0\" >83</td>\n",
       "      <td id=\"T_04268_row0_col1\" class=\"data row0 col1\" >609</td>\n",
       "      <td id=\"T_04268_row0_col2\" class=\"data row0 col2\" >535</td>\n",
       "    </tr>\n",
       "    <tr>\n",
       "      <th id=\"T_04268_level0_row1\" class=\"row_heading level0 row1\" >RandD</th>\n",
       "      <td id=\"T_04268_row1_col0\" class=\"data row1 col0\" >51</td>\n",
       "      <td id=\"T_04268_row1_col1\" class=\"data row1 col1\" >364</td>\n",
       "      <td id=\"T_04268_row1_col2\" class=\"data row1 col2\" >372</td>\n",
       "    </tr>\n",
       "    <tr>\n",
       "      <th id=\"T_04268_level0_row2\" class=\"row_heading level0 row2\" >accounting</th>\n",
       "      <td id=\"T_04268_row2_col0\" class=\"data row2 col0\" >74</td>\n",
       "      <td id=\"T_04268_row2_col1\" class=\"data row2 col1\" >358</td>\n",
       "      <td id=\"T_04268_row2_col2\" class=\"data row2 col2\" >335</td>\n",
       "    </tr>\n",
       "    <tr>\n",
       "      <th id=\"T_04268_level0_row3\" class=\"row_heading level0 row3\" >hr</th>\n",
       "      <td id=\"T_04268_row3_col0\" class=\"data row3 col0\" >45</td>\n",
       "      <td id=\"T_04268_row3_col1\" class=\"data row3 col1\" >335</td>\n",
       "      <td id=\"T_04268_row3_col2\" class=\"data row3 col2\" >359</td>\n",
       "    </tr>\n",
       "    <tr>\n",
       "      <th id=\"T_04268_level0_row4\" class=\"row_heading level0 row4\" >management</th>\n",
       "      <td id=\"T_04268_row4_col0\" class=\"data row4 col0\" >225</td>\n",
       "      <td id=\"T_04268_row4_col1\" class=\"data row4 col1\" >180</td>\n",
       "      <td id=\"T_04268_row4_col2\" class=\"data row4 col2\" >225</td>\n",
       "    </tr>\n",
       "    <tr>\n",
       "      <th id=\"T_04268_level0_row5\" class=\"row_heading level0 row5\" >marketing</th>\n",
       "      <td id=\"T_04268_row5_col0\" class=\"data row5 col0\" >80</td>\n",
       "      <td id=\"T_04268_row5_col1\" class=\"data row5 col1\" >402</td>\n",
       "      <td id=\"T_04268_row5_col2\" class=\"data row5 col2\" >376</td>\n",
       "    </tr>\n",
       "    <tr>\n",
       "      <th id=\"T_04268_level0_row6\" class=\"row_heading level0 row6\" >product_mng</th>\n",
       "      <td id=\"T_04268_row6_col0\" class=\"data row6 col0\" >68</td>\n",
       "      <td id=\"T_04268_row6_col1\" class=\"data row6 col1\" >451</td>\n",
       "      <td id=\"T_04268_row6_col2\" class=\"data row6 col2\" >383</td>\n",
       "    </tr>\n",
       "    <tr>\n",
       "      <th id=\"T_04268_level0_row7\" class=\"row_heading level0 row7\" >sales</th>\n",
       "      <td id=\"T_04268_row7_col0\" class=\"data row7 col0\" >269</td>\n",
       "      <td id=\"T_04268_row7_col1\" class=\"data row7 col1\" >2099</td>\n",
       "      <td id=\"T_04268_row7_col2\" class=\"data row7 col2\" >1772</td>\n",
       "    </tr>\n",
       "    <tr>\n",
       "      <th id=\"T_04268_level0_row8\" class=\"row_heading level0 row8\" >support</th>\n",
       "      <td id=\"T_04268_row8_col0\" class=\"data row8 col0\" >141</td>\n",
       "      <td id=\"T_04268_row8_col1\" class=\"data row8 col1\" >1146</td>\n",
       "      <td id=\"T_04268_row8_col2\" class=\"data row8 col2\" >942</td>\n",
       "    </tr>\n",
       "    <tr>\n",
       "      <th id=\"T_04268_level0_row9\" class=\"row_heading level0 row9\" >technical</th>\n",
       "      <td id=\"T_04268_row9_col0\" class=\"data row9 col0\" >201</td>\n",
       "      <td id=\"T_04268_row9_col1\" class=\"data row9 col1\" >1372</td>\n",
       "      <td id=\"T_04268_row9_col2\" class=\"data row9 col2\" >1147</td>\n",
       "    </tr>\n",
       "  </tbody>\n",
       "</table>\n"
      ],
      "text/plain": [
       "<pandas.io.formats.style.Styler at 0x1854e293070>"
      ]
     },
     "execution_count": 8,
     "metadata": {},
     "output_type": "execute_result"
    }
   ],
   "source": [
    "pd.crosstab(df['sales'],df['salary']).style.background_gradient('summer_r')"
   ]
  },
  {
   "cell_type": "markdown",
   "id": "2bfa7b9b",
   "metadata": {},
   "source": [
    "# Data Cleansing"
   ]
  },
  {
   "cell_type": "code",
   "execution_count": 9,
   "id": "84fc7438",
   "metadata": {},
   "outputs": [
    {
     "data": {
      "image/png": "[encoded data removed]",
      "text/plain": [
       "<Figure size 1080x1440 with 2 Axes>"
      ]
     },
     "metadata": {
      "needs_background": "light"
     },
     "output_type": "display_data"
    },
    {
     "data": {
      "image/png": "[encoded data removed]",
      "text/plain": [
       "<Figure size 1080x1440 with 2 Axes>"
      ]
     },
     "metadata": {
      "needs_background": "light"
     },
     "output_type": "display_data"
    }
   ],
   "source": [
    "#Checking outliers\n",
    "def boxplot(x,i):\n",
    "    plt.subplot(5,2,i)\n",
    "    sns.boxplot(y=df[x])\n",
    "plt.figure(figsize=(15,20))    \n",
    "    \n",
    "boxplot('satisfaction_level',1)  \n",
    "boxplot('last_evaluation',2) \n",
    "\n",
    "plt.figure(figsize=(15,20))\n",
    "boxplot('number_project',1)\n",
    "boxplot('average_montly_hours',2)"
   ]
  },
  {
   "cell_type": "code",
   "execution_count": 10,
   "id": "cfbbab57",
   "metadata": {
    "scrolled": true
   },
   "outputs": [
    {
     "data": {
      "text/plain": [
       "Index(['satisfaction_level', 'last_evaluation', 'number_project',\n",
       "       'average_montly_hours', 'time_spend_company', 'Work_accident', 'left',\n",
       "       'promotion_last_5years', 'sales', 'salary'],\n",
       "      dtype='object')"
      ]
     },
     "execution_count": 10,
     "metadata": {},
     "output_type": "execute_result"
    }
   ],
   "source": [
    "df.columns"
   ]
  },
  {
   "cell_type": "code",
   "execution_count": 11,
   "id": "03b6d5f4",
   "metadata": {
    "scrolled": false
   },
   "outputs": [
    {
     "data": {
      "text/plain": [
       "4    4365\n",
       "3    4055\n",
       "5    2761\n",
       "2    2388\n",
       "6    1174\n",
       "7     256\n",
       "Name: number_project, dtype: int64"
      ]
     },
     "execution_count": 11,
     "metadata": {},
     "output_type": "execute_result"
    }
   ],
   "source": [
    "#checking unique values and count of each values\n",
    "df['number_project'].value_counts() #catogory"
   ]
  },
  {
   "cell_type": "code",
   "execution_count": 12,
   "id": "6c1d3417",
   "metadata": {},
   "outputs": [
    {
     "data": {
      "text/plain": [
       "3     6443\n",
       "2     3244\n",
       "4     2557\n",
       "5     1473\n",
       "6      718\n",
       "10     214\n",
       "7      188\n",
       "8      162\n",
       "Name: time_spend_company, dtype: int64"
      ]
     },
     "execution_count": 12,
     "metadata": {},
     "output_type": "execute_result"
    }
   ],
   "source": [
    "df['time_spend_company'].value_counts() #catogory"
   ]
  },
  {
   "cell_type": "code",
   "execution_count": 13,
   "id": "41fee56a",
   "metadata": {},
   "outputs": [
    {
     "data": {
      "text/plain": [
       "0    12830\n",
       "1     2169\n",
       "Name: Work_accident, dtype: int64"
      ]
     },
     "execution_count": 13,
     "metadata": {},
     "output_type": "execute_result"
    }
   ],
   "source": [
    "df['Work_accident'].value_counts() #binary"
   ]
  },
  {
   "cell_type": "code",
   "execution_count": 14,
   "id": "6a7496a1",
   "metadata": {},
   "outputs": [
    {
     "data": {
      "text/plain": [
       "0    11428\n",
       "1     3571\n",
       "Name: left, dtype: int64"
      ]
     },
     "execution_count": 14,
     "metadata": {},
     "output_type": "execute_result"
    }
   ],
   "source": [
    "df['left'].value_counts() #binary"
   ]
  },
  {
   "cell_type": "code",
   "execution_count": 15,
   "id": "15ed9703",
   "metadata": {},
   "outputs": [
    {
     "data": {
      "text/plain": [
       "0    14680\n",
       "1      319\n",
       "Name: promotion_last_5years, dtype: int64"
      ]
     },
     "execution_count": 15,
     "metadata": {},
     "output_type": "execute_result"
    }
   ],
   "source": [
    "df['promotion_last_5years'].value_counts() #binary"
   ]
  },
  {
   "cell_type": "code",
   "execution_count": 16,
   "id": "64222383",
   "metadata": {},
   "outputs": [],
   "source": [
    "df=df.rename(columns={'sales': 'department'})"
   ]
  },
  {
   "cell_type": "code",
   "execution_count": 17,
   "id": "f273344b",
   "metadata": {
    "scrolled": true
   },
   "outputs": [
    {
     "data": {
      "text/plain": [
       "sales          4140\n",
       "technical      2720\n",
       "support        2229\n",
       "IT             1227\n",
       "product_mng     902\n",
       "marketing       858\n",
       "RandD           787\n",
       "accounting      767\n",
       "hr              739\n",
       "management      630\n",
       "Name: department, dtype: int64"
      ]
     },
     "execution_count": 17,
     "metadata": {},
     "output_type": "execute_result"
    }
   ],
   "source": [
    "df['department'].value_counts() #catogory"
   ]
  },
  {
   "cell_type": "code",
   "execution_count": 18,
   "id": "baf27c91",
   "metadata": {},
   "outputs": [
    {
     "data": {
      "text/plain": [
       "low       7316\n",
       "medium    6446\n",
       "high      1237\n",
       "Name: salary, dtype: int64"
      ]
     },
     "execution_count": 18,
     "metadata": {},
     "output_type": "execute_result"
    }
   ],
   "source": [
    "df['salary'].value_counts() #catogory"
   ]
  },
  {
   "cell_type": "code",
   "execution_count": 19,
   "id": "18256f28",
   "metadata": {},
   "outputs": [
    {
     "data": {
      "text/html": [
       "<div>\n",
       "<style scoped>\n",
       "    .dataframe tbody tr th:only-of-type {\n",
       "        vertical-align: middle;\n",
       "    }\n",
       "\n",
       "    .dataframe tbody tr th {\n",
       "        vertical-align: top;\n",
       "    }\n",
       "\n",
       "    .dataframe thead th {\n",
       "        text-align: right;\n",
       "    }\n",
       "</style>\n",
       "<table border=\"1\" class=\"dataframe\">\n",
       "  <thead>\n",
       "    <tr style=\"text-align: right;\">\n",
       "      <th></th>\n",
       "      <th>count</th>\n",
       "      <th>mean</th>\n",
       "      <th>std</th>\n",
       "      <th>min</th>\n",
       "      <th>25%</th>\n",
       "      <th>50%</th>\n",
       "      <th>75%</th>\n",
       "      <th>max</th>\n",
       "    </tr>\n",
       "  </thead>\n",
       "  <tbody>\n",
       "    <tr>\n",
       "      <th>satisfaction_level</th>\n",
       "      <td>14999.0</td>\n",
       "      <td>0.612834</td>\n",
       "      <td>0.248631</td>\n",
       "      <td>0.09</td>\n",
       "      <td>0.44</td>\n",
       "      <td>0.64</td>\n",
       "      <td>0.82</td>\n",
       "      <td>1.0</td>\n",
       "    </tr>\n",
       "    <tr>\n",
       "      <th>last_evaluation</th>\n",
       "      <td>14999.0</td>\n",
       "      <td>0.716102</td>\n",
       "      <td>0.171169</td>\n",
       "      <td>0.36</td>\n",
       "      <td>0.56</td>\n",
       "      <td>0.72</td>\n",
       "      <td>0.87</td>\n",
       "      <td>1.0</td>\n",
       "    </tr>\n",
       "    <tr>\n",
       "      <th>number_project</th>\n",
       "      <td>14999.0</td>\n",
       "      <td>3.803054</td>\n",
       "      <td>1.232592</td>\n",
       "      <td>2.00</td>\n",
       "      <td>3.00</td>\n",
       "      <td>4.00</td>\n",
       "      <td>5.00</td>\n",
       "      <td>7.0</td>\n",
       "    </tr>\n",
       "    <tr>\n",
       "      <th>average_montly_hours</th>\n",
       "      <td>14999.0</td>\n",
       "      <td>201.050337</td>\n",
       "      <td>49.943099</td>\n",
       "      <td>96.00</td>\n",
       "      <td>156.00</td>\n",
       "      <td>200.00</td>\n",
       "      <td>245.00</td>\n",
       "      <td>310.0</td>\n",
       "    </tr>\n",
       "    <tr>\n",
       "      <th>time_spend_company</th>\n",
       "      <td>14999.0</td>\n",
       "      <td>3.498233</td>\n",
       "      <td>1.460136</td>\n",
       "      <td>2.00</td>\n",
       "      <td>3.00</td>\n",
       "      <td>3.00</td>\n",
       "      <td>4.00</td>\n",
       "      <td>10.0</td>\n",
       "    </tr>\n",
       "    <tr>\n",
       "      <th>Work_accident</th>\n",
       "      <td>14999.0</td>\n",
       "      <td>0.144610</td>\n",
       "      <td>0.351719</td>\n",
       "      <td>0.00</td>\n",
       "      <td>0.00</td>\n",
       "      <td>0.00</td>\n",
       "      <td>0.00</td>\n",
       "      <td>1.0</td>\n",
       "    </tr>\n",
       "    <tr>\n",
       "      <th>left</th>\n",
       "      <td>14999.0</td>\n",
       "      <td>0.238083</td>\n",
       "      <td>0.425924</td>\n",
       "      <td>0.00</td>\n",
       "      <td>0.00</td>\n",
       "      <td>0.00</td>\n",
       "      <td>0.00</td>\n",
       "      <td>1.0</td>\n",
       "    </tr>\n",
       "    <tr>\n",
       "      <th>promotion_last_5years</th>\n",
       "      <td>14999.0</td>\n",
       "      <td>0.021268</td>\n",
       "      <td>0.144281</td>\n",
       "      <td>0.00</td>\n",
       "      <td>0.00</td>\n",
       "      <td>0.00</td>\n",
       "      <td>0.00</td>\n",
       "      <td>1.0</td>\n",
       "    </tr>\n",
       "  </tbody>\n",
       "</table>\n",
       "</div>"
      ],
      "text/plain": [
       "                         count        mean        std    min     25%     50%  \\\n",
       "satisfaction_level     14999.0    0.612834   0.248631   0.09    0.44    0.64   \n",
       "last_evaluation        14999.0    0.716102   0.171169   0.36    0.56    0.72   \n",
       "number_project         14999.0    3.803054   1.232592   2.00    3.00    4.00   \n",
       "average_montly_hours   14999.0  201.050337  49.943099  96.00  156.00  200.00   \n",
       "time_spend_company     14999.0    3.498233   1.460136   2.00    3.00    3.00   \n",
       "Work_accident          14999.0    0.144610   0.351719   0.00    0.00    0.00   \n",
       "left                   14999.0    0.238083   0.425924   0.00    0.00    0.00   \n",
       "promotion_last_5years  14999.0    0.021268   0.144281   0.00    0.00    0.00   \n",
       "\n",
       "                          75%    max  \n",
       "satisfaction_level       0.82    1.0  \n",
       "last_evaluation          0.87    1.0  \n",
       "number_project           5.00    7.0  \n",
       "average_montly_hours   245.00  310.0  \n",
       "time_spend_company       4.00   10.0  \n",
       "Work_accident            0.00    1.0  \n",
       "left                     0.00    1.0  \n",
       "promotion_last_5years    0.00    1.0  "
      ]
     },
     "execution_count": 19,
     "metadata": {},
     "output_type": "execute_result"
    }
   ],
   "source": [
    "df.describe().T"
   ]
  },
  {
   "cell_type": "code",
   "execution_count": 20,
   "id": "5e47c993",
   "metadata": {},
   "outputs": [
    {
     "data": {
      "text/html": [
       "<div>\n",
       "<style scoped>\n",
       "    .dataframe tbody tr th:only-of-type {\n",
       "        vertical-align: middle;\n",
       "    }\n",
       "\n",
       "    .dataframe tbody tr th {\n",
       "        vertical-align: top;\n",
       "    }\n",
       "\n",
       "    .dataframe thead th {\n",
       "        text-align: right;\n",
       "    }\n",
       "</style>\n",
       "<table border=\"1\" class=\"dataframe\">\n",
       "  <thead>\n",
       "    <tr style=\"text-align: right;\">\n",
       "      <th></th>\n",
       "      <th>satisfaction_level</th>\n",
       "      <th>last_evaluation</th>\n",
       "      <th>number_project</th>\n",
       "      <th>average_montly_hours</th>\n",
       "      <th>time_spend_company</th>\n",
       "      <th>Work_accident</th>\n",
       "      <th>left</th>\n",
       "      <th>promotion_last_5years</th>\n",
       "      <th>department</th>\n",
       "      <th>salary</th>\n",
       "    </tr>\n",
       "  </thead>\n",
       "  <tbody>\n",
       "    <tr>\n",
       "      <th>0</th>\n",
       "      <td>0.38</td>\n",
       "      <td>0.53</td>\n",
       "      <td>2</td>\n",
       "      <td>157</td>\n",
       "      <td>3</td>\n",
       "      <td>0</td>\n",
       "      <td>1</td>\n",
       "      <td>0</td>\n",
       "      <td>sales</td>\n",
       "      <td>1</td>\n",
       "    </tr>\n",
       "    <tr>\n",
       "      <th>1</th>\n",
       "      <td>0.80</td>\n",
       "      <td>0.86</td>\n",
       "      <td>5</td>\n",
       "      <td>262</td>\n",
       "      <td>6</td>\n",
       "      <td>0</td>\n",
       "      <td>1</td>\n",
       "      <td>0</td>\n",
       "      <td>sales</td>\n",
       "      <td>2</td>\n",
       "    </tr>\n",
       "    <tr>\n",
       "      <th>2</th>\n",
       "      <td>0.11</td>\n",
       "      <td>0.88</td>\n",
       "      <td>7</td>\n",
       "      <td>272</td>\n",
       "      <td>4</td>\n",
       "      <td>0</td>\n",
       "      <td>1</td>\n",
       "      <td>0</td>\n",
       "      <td>sales</td>\n",
       "      <td>2</td>\n",
       "    </tr>\n",
       "    <tr>\n",
       "      <th>3</th>\n",
       "      <td>0.72</td>\n",
       "      <td>0.87</td>\n",
       "      <td>5</td>\n",
       "      <td>223</td>\n",
       "      <td>5</td>\n",
       "      <td>0</td>\n",
       "      <td>1</td>\n",
       "      <td>0</td>\n",
       "      <td>sales</td>\n",
       "      <td>1</td>\n",
       "    </tr>\n",
       "    <tr>\n",
       "      <th>4</th>\n",
       "      <td>0.37</td>\n",
       "      <td>0.52</td>\n",
       "      <td>2</td>\n",
       "      <td>159</td>\n",
       "      <td>3</td>\n",
       "      <td>0</td>\n",
       "      <td>1</td>\n",
       "      <td>0</td>\n",
       "      <td>sales</td>\n",
       "      <td>1</td>\n",
       "    </tr>\n",
       "  </tbody>\n",
       "</table>\n",
       "</div>"
      ],
      "text/plain": [
       "   satisfaction_level  last_evaluation  number_project  average_montly_hours  \\\n",
       "0                0.38             0.53               2                   157   \n",
       "1                0.80             0.86               5                   262   \n",
       "2                0.11             0.88               7                   272   \n",
       "3                0.72             0.87               5                   223   \n",
       "4                0.37             0.52               2                   159   \n",
       "\n",
       "   time_spend_company  Work_accident  left  promotion_last_5years department  \\\n",
       "0                   3              0     1                      0      sales   \n",
       "1                   6              0     1                      0      sales   \n",
       "2                   4              0     1                      0      sales   \n",
       "3                   5              0     1                      0      sales   \n",
       "4                   3              0     1                      0      sales   \n",
       "\n",
       "   salary  \n",
       "0       1  \n",
       "1       2  \n",
       "2       2  \n",
       "3       1  \n",
       "4       1  "
      ]
     },
     "execution_count": 20,
     "metadata": {},
     "output_type": "execute_result"
    }
   ],
   "source": [
    "#Label Encoding the Salary\n",
    "from sklearn.preprocessing import LabelEncoder\n",
    "\n",
    "le=LabelEncoder()\n",
    "df['salary']=le.fit_transform(df['salary'])\n",
    "df.head()"
   ]
  },
  {
   "cell_type": "code",
   "execution_count": 21,
   "id": "0015b14b",
   "metadata": {},
   "outputs": [
    {
     "data": {
      "text/html": [
       "<div>\n",
       "<style scoped>\n",
       "    .dataframe tbody tr th:only-of-type {\n",
       "        vertical-align: middle;\n",
       "    }\n",
       "\n",
       "    .dataframe tbody tr th {\n",
       "        vertical-align: top;\n",
       "    }\n",
       "\n",
       "    .dataframe thead th {\n",
       "        text-align: right;\n",
       "    }\n",
       "</style>\n",
       "<table border=\"1\" class=\"dataframe\">\n",
       "  <thead>\n",
       "    <tr style=\"text-align: right;\">\n",
       "      <th></th>\n",
       "      <th>satisfaction_level</th>\n",
       "      <th>last_evaluation</th>\n",
       "      <th>number_project</th>\n",
       "      <th>average_montly_hours</th>\n",
       "      <th>time_spend_company</th>\n",
       "      <th>Work_accident</th>\n",
       "      <th>left</th>\n",
       "      <th>promotion_last_5years</th>\n",
       "      <th>salary</th>\n",
       "      <th>department_RandD</th>\n",
       "      <th>department_accounting</th>\n",
       "      <th>department_hr</th>\n",
       "      <th>department_management</th>\n",
       "      <th>department_marketing</th>\n",
       "      <th>department_product_mng</th>\n",
       "      <th>department_sales</th>\n",
       "      <th>department_support</th>\n",
       "      <th>department_technical</th>\n",
       "    </tr>\n",
       "  </thead>\n",
       "  <tbody>\n",
       "    <tr>\n",
       "      <th>0</th>\n",
       "      <td>0.38</td>\n",
       "      <td>0.53</td>\n",
       "      <td>2</td>\n",
       "      <td>157</td>\n",
       "      <td>3</td>\n",
       "      <td>0</td>\n",
       "      <td>1</td>\n",
       "      <td>0</td>\n",
       "      <td>1</td>\n",
       "      <td>0</td>\n",
       "      <td>0</td>\n",
       "      <td>0</td>\n",
       "      <td>0</td>\n",
       "      <td>0</td>\n",
       "      <td>0</td>\n",
       "      <td>1</td>\n",
       "      <td>0</td>\n",
       "      <td>0</td>\n",
       "    </tr>\n",
       "    <tr>\n",
       "      <th>1</th>\n",
       "      <td>0.80</td>\n",
       "      <td>0.86</td>\n",
       "      <td>5</td>\n",
       "      <td>262</td>\n",
       "      <td>6</td>\n",
       "      <td>0</td>\n",
       "      <td>1</td>\n",
       "      <td>0</td>\n",
       "      <td>2</td>\n",
       "      <td>0</td>\n",
       "      <td>0</td>\n",
       "      <td>0</td>\n",
       "      <td>0</td>\n",
       "      <td>0</td>\n",
       "      <td>0</td>\n",
       "      <td>1</td>\n",
       "      <td>0</td>\n",
       "      <td>0</td>\n",
       "    </tr>\n",
       "    <tr>\n",
       "      <th>2</th>\n",
       "      <td>0.11</td>\n",
       "      <td>0.88</td>\n",
       "      <td>7</td>\n",
       "      <td>272</td>\n",
       "      <td>4</td>\n",
       "      <td>0</td>\n",
       "      <td>1</td>\n",
       "      <td>0</td>\n",
       "      <td>2</td>\n",
       "      <td>0</td>\n",
       "      <td>0</td>\n",
       "      <td>0</td>\n",
       "      <td>0</td>\n",
       "      <td>0</td>\n",
       "      <td>0</td>\n",
       "      <td>1</td>\n",
       "      <td>0</td>\n",
       "      <td>0</td>\n",
       "    </tr>\n",
       "    <tr>\n",
       "      <th>3</th>\n",
       "      <td>0.72</td>\n",
       "      <td>0.87</td>\n",
       "      <td>5</td>\n",
       "      <td>223</td>\n",
       "      <td>5</td>\n",
       "      <td>0</td>\n",
       "      <td>1</td>\n",
       "      <td>0</td>\n",
       "      <td>1</td>\n",
       "      <td>0</td>\n",
       "      <td>0</td>\n",
       "      <td>0</td>\n",
       "      <td>0</td>\n",
       "      <td>0</td>\n",
       "      <td>0</td>\n",
       "      <td>1</td>\n",
       "      <td>0</td>\n",
       "      <td>0</td>\n",
       "    </tr>\n",
       "    <tr>\n",
       "      <th>4</th>\n",
       "      <td>0.37</td>\n",
       "      <td>0.52</td>\n",
       "      <td>2</td>\n",
       "      <td>159</td>\n",
       "      <td>3</td>\n",
       "      <td>0</td>\n",
       "      <td>1</td>\n",
       "      <td>0</td>\n",
       "      <td>1</td>\n",
       "      <td>0</td>\n",
       "      <td>0</td>\n",
       "      <td>0</td>\n",
       "      <td>0</td>\n",
       "      <td>0</td>\n",
       "      <td>0</td>\n",
       "      <td>1</td>\n",
       "      <td>0</td>\n",
       "      <td>0</td>\n",
       "    </tr>\n",
       "  </tbody>\n",
       "</table>\n",
       "</div>"
      ],
      "text/plain": [
       "   satisfaction_level  last_evaluation  number_project  average_montly_hours  \\\n",
       "0                0.38             0.53               2                   157   \n",
       "1                0.80             0.86               5                   262   \n",
       "2                0.11             0.88               7                   272   \n",
       "3                0.72             0.87               5                   223   \n",
       "4                0.37             0.52               2                   159   \n",
       "\n",
       "   time_spend_company  Work_accident  left  promotion_last_5years  salary  \\\n",
       "0                   3              0     1                      0       1   \n",
       "1                   6              0     1                      0       2   \n",
       "2                   4              0     1                      0       2   \n",
       "3                   5              0     1                      0       1   \n",
       "4                   3              0     1                      0       1   \n",
       "\n",
       "   department_RandD  department_accounting  department_hr  \\\n",
       "0                 0                      0              0   \n",
       "1                 0                      0              0   \n",
       "2                 0                      0              0   \n",
       "3                 0                      0              0   \n",
       "4                 0                      0              0   \n",
       "\n",
       "   department_management  department_marketing  department_product_mng  \\\n",
       "0                      0                     0                       0   \n",
       "1                      0                     0                       0   \n",
       "2                      0                     0                       0   \n",
       "3                      0                     0                       0   \n",
       "4                      0                     0                       0   \n",
       "\n",
       "   department_sales  department_support  department_technical  \n",
       "0                 1                   0                     0  \n",
       "1                 1                   0                     0  \n",
       "2                 1                   0                     0  \n",
       "3                 1                   0                     0  \n",
       "4                 1                   0                     0  "
      ]
     },
     "execution_count": 21,
     "metadata": {},
     "output_type": "execute_result"
    }
   ],
   "source": [
    "#one hot encoding\n",
    "df=pd.get_dummies(df,drop_first=True )\n",
    "df.head()"
   ]
  },
  {
   "cell_type": "markdown",
   "id": "28ec1648",
   "metadata": {},
   "source": [
    "# Train Test Split"
   ]
  },
  {
   "cell_type": "code",
   "execution_count": 22,
   "id": "aecc8e6b",
   "metadata": {},
   "outputs": [
    {
     "name": "stdout",
     "output_type": "stream",
     "text": [
      "Shape of x: (14999, 17)\n",
      "Shape of y: (14999,)\n"
     ]
    }
   ],
   "source": [
    "# defining dependent and independent variables\n",
    "\n",
    "# removing the target column salry from x\n",
    "x = df.drop(['salary'], axis = 1)\n",
    "\n",
    "y = df['salary']\n",
    "\n",
    "# checking the shapes\n",
    "print(\"Shape of x:\", x.shape)\n",
    "print(\"Shape of y:\", y.shape)\n"
   ]
  },
  {
   "cell_type": "code",
   "execution_count": 23,
   "id": "320c1348",
   "metadata": {},
   "outputs": [],
   "source": [
    "# Spliting\n",
    "from sklearn.model_selection import train_test_split\n",
    "X_train, X_test, y_train, y_test = train_test_split(x, y, test_size=.33, random_state=42)\n",
    "\n"
   ]
  },
  {
   "cell_type": "code",
   "execution_count": 24,
   "id": "6c870411",
   "metadata": {},
   "outputs": [
    {
     "data": {
      "text/plain": [
       "((10049, 17), (10049,))"
      ]
     },
     "execution_count": 24,
     "metadata": {},
     "output_type": "execute_result"
    }
   ],
   "source": [
    "X_train.shape, y_train.shape"
   ]
  },
  {
   "cell_type": "code",
   "execution_count": 25,
   "id": "3db3ed4d",
   "metadata": {},
   "outputs": [
    {
     "data": {
      "text/plain": [
       "((4950, 17), (4950,))"
      ]
     },
     "execution_count": 25,
     "metadata": {},
     "output_type": "execute_result"
    }
   ],
   "source": [
    "X_test.shape, y_test.shape"
   ]
  },
  {
   "cell_type": "code",
   "execution_count": 26,
   "id": "e4b6fc7c",
   "metadata": {
    "scrolled": true
   },
   "outputs": [
    {
     "data": {
      "text/html": [
       "<div>\n",
       "<style scoped>\n",
       "    .dataframe tbody tr th:only-of-type {\n",
       "        vertical-align: middle;\n",
       "    }\n",
       "\n",
       "    .dataframe tbody tr th {\n",
       "        vertical-align: top;\n",
       "    }\n",
       "\n",
       "    .dataframe thead th {\n",
       "        text-align: right;\n",
       "    }\n",
       "</style>\n",
       "<table border=\"1\" class=\"dataframe\">\n",
       "  <thead>\n",
       "    <tr style=\"text-align: right;\">\n",
       "      <th></th>\n",
       "      <th>satisfaction_level</th>\n",
       "      <th>last_evaluation</th>\n",
       "      <th>number_project</th>\n",
       "      <th>average_montly_hours</th>\n",
       "      <th>time_spend_company</th>\n",
       "      <th>Work_accident</th>\n",
       "      <th>left</th>\n",
       "      <th>promotion_last_5years</th>\n",
       "      <th>department_RandD</th>\n",
       "      <th>department_accounting</th>\n",
       "      <th>department_hr</th>\n",
       "      <th>department_management</th>\n",
       "      <th>department_marketing</th>\n",
       "      <th>department_product_mng</th>\n",
       "      <th>department_sales</th>\n",
       "      <th>department_support</th>\n",
       "      <th>department_technical</th>\n",
       "    </tr>\n",
       "  </thead>\n",
       "  <tbody>\n",
       "    <tr>\n",
       "      <th>10804</th>\n",
       "      <td>0.626374</td>\n",
       "      <td>0.453125</td>\n",
       "      <td>0.2</td>\n",
       "      <td>0.467290</td>\n",
       "      <td>0.125</td>\n",
       "      <td>1.0</td>\n",
       "      <td>0.0</td>\n",
       "      <td>0.0</td>\n",
       "      <td>0.0</td>\n",
       "      <td>0.0</td>\n",
       "      <td>0.0</td>\n",
       "      <td>0.0</td>\n",
       "      <td>0.0</td>\n",
       "      <td>0.0</td>\n",
       "      <td>0.0</td>\n",
       "      <td>0.0</td>\n",
       "      <td>1.0</td>\n",
       "    </tr>\n",
       "    <tr>\n",
       "      <th>13984</th>\n",
       "      <td>0.923077</td>\n",
       "      <td>0.218750</td>\n",
       "      <td>0.6</td>\n",
       "      <td>0.822430</td>\n",
       "      <td>0.125</td>\n",
       "      <td>0.0</td>\n",
       "      <td>0.0</td>\n",
       "      <td>0.0</td>\n",
       "      <td>0.0</td>\n",
       "      <td>0.0</td>\n",
       "      <td>0.0</td>\n",
       "      <td>0.0</td>\n",
       "      <td>0.0</td>\n",
       "      <td>0.0</td>\n",
       "      <td>1.0</td>\n",
       "      <td>0.0</td>\n",
       "      <td>0.0</td>\n",
       "    </tr>\n",
       "    <tr>\n",
       "      <th>7971</th>\n",
       "      <td>0.780220</td>\n",
       "      <td>0.640625</td>\n",
       "      <td>0.6</td>\n",
       "      <td>0.747664</td>\n",
       "      <td>0.000</td>\n",
       "      <td>0.0</td>\n",
       "      <td>0.0</td>\n",
       "      <td>0.0</td>\n",
       "      <td>0.0</td>\n",
       "      <td>0.0</td>\n",
       "      <td>0.0</td>\n",
       "      <td>0.0</td>\n",
       "      <td>0.0</td>\n",
       "      <td>0.0</td>\n",
       "      <td>0.0</td>\n",
       "      <td>0.0</td>\n",
       "      <td>1.0</td>\n",
       "    </tr>\n",
       "    <tr>\n",
       "      <th>6177</th>\n",
       "      <td>0.692308</td>\n",
       "      <td>0.343750</td>\n",
       "      <td>0.4</td>\n",
       "      <td>0.742991</td>\n",
       "      <td>0.000</td>\n",
       "      <td>0.0</td>\n",
       "      <td>0.0</td>\n",
       "      <td>0.0</td>\n",
       "      <td>1.0</td>\n",
       "      <td>0.0</td>\n",
       "      <td>0.0</td>\n",
       "      <td>0.0</td>\n",
       "      <td>0.0</td>\n",
       "      <td>0.0</td>\n",
       "      <td>0.0</td>\n",
       "      <td>0.0</td>\n",
       "      <td>0.0</td>\n",
       "    </tr>\n",
       "    <tr>\n",
       "      <th>10085</th>\n",
       "      <td>0.065934</td>\n",
       "      <td>0.687500</td>\n",
       "      <td>0.6</td>\n",
       "      <td>0.116822</td>\n",
       "      <td>0.375</td>\n",
       "      <td>0.0</td>\n",
       "      <td>0.0</td>\n",
       "      <td>0.0</td>\n",
       "      <td>0.0</td>\n",
       "      <td>0.0</td>\n",
       "      <td>0.0</td>\n",
       "      <td>0.0</td>\n",
       "      <td>0.0</td>\n",
       "      <td>0.0</td>\n",
       "      <td>1.0</td>\n",
       "      <td>0.0</td>\n",
       "      <td>0.0</td>\n",
       "    </tr>\n",
       "  </tbody>\n",
       "</table>\n",
       "</div>"
      ],
      "text/plain": [
       "       satisfaction_level  last_evaluation  number_project  \\\n",
       "10804            0.626374         0.453125             0.2   \n",
       "13984            0.923077         0.218750             0.6   \n",
       "7971             0.780220         0.640625             0.6   \n",
       "6177             0.692308         0.343750             0.4   \n",
       "10085            0.065934         0.687500             0.6   \n",
       "\n",
       "       average_montly_hours  time_spend_company  Work_accident  left  \\\n",
       "10804              0.467290               0.125            1.0   0.0   \n",
       "13984              0.822430               0.125            0.0   0.0   \n",
       "7971               0.747664               0.000            0.0   0.0   \n",
       "6177               0.742991               0.000            0.0   0.0   \n",
       "10085              0.116822               0.375            0.0   0.0   \n",
       "\n",
       "       promotion_last_5years  department_RandD  department_accounting  \\\n",
       "10804                    0.0               0.0                    0.0   \n",
       "13984                    0.0               0.0                    0.0   \n",
       "7971                     0.0               0.0                    0.0   \n",
       "6177                     0.0               1.0                    0.0   \n",
       "10085                    0.0               0.0                    0.0   \n",
       "\n",
       "       department_hr  department_management  department_marketing  \\\n",
       "10804            0.0                    0.0                   0.0   \n",
       "13984            0.0                    0.0                   0.0   \n",
       "7971             0.0                    0.0                   0.0   \n",
       "6177             0.0                    0.0                   0.0   \n",
       "10085            0.0                    0.0                   0.0   \n",
       "\n",
       "       department_product_mng  department_sales  department_support  \\\n",
       "10804                     0.0               0.0                 0.0   \n",
       "13984                     0.0               1.0                 0.0   \n",
       "7971                      0.0               0.0                 0.0   \n",
       "6177                      0.0               0.0                 0.0   \n",
       "10085                     0.0               1.0                 0.0   \n",
       "\n",
       "       department_technical  \n",
       "10804                   1.0  \n",
       "13984                   0.0  \n",
       "7971                    1.0  \n",
       "6177                    0.0  \n",
       "10085                   0.0  "
      ]
     },
     "execution_count": 26,
     "metadata": {},
     "output_type": "execute_result"
    }
   ],
   "source": [
    "#Normalisation of X_train with minmax scaler\n",
    "from sklearn.preprocessing import MinMaxScaler\n",
    "\n",
    "sc=MinMaxScaler()\n",
    "X_train=pd.DataFrame(sc.fit_transform(X_train,y_train ),index=X_train.index,columns=X_train.columns)\n",
    "\n",
    "X_train.head()"
   ]
  },
  {
   "cell_type": "code",
   "execution_count": 27,
   "id": "a94f81f4",
   "metadata": {
    "scrolled": true
   },
   "outputs": [
    {
     "data": {
      "text/html": [
       "<div>\n",
       "<style scoped>\n",
       "    .dataframe tbody tr th:only-of-type {\n",
       "        vertical-align: middle;\n",
       "    }\n",
       "\n",
       "    .dataframe tbody tr th {\n",
       "        vertical-align: top;\n",
       "    }\n",
       "\n",
       "    .dataframe thead th {\n",
       "        text-align: right;\n",
       "    }\n",
       "</style>\n",
       "<table border=\"1\" class=\"dataframe\">\n",
       "  <thead>\n",
       "    <tr style=\"text-align: right;\">\n",
       "      <th></th>\n",
       "      <th>satisfaction_level</th>\n",
       "      <th>last_evaluation</th>\n",
       "      <th>number_project</th>\n",
       "      <th>average_montly_hours</th>\n",
       "      <th>time_spend_company</th>\n",
       "      <th>Work_accident</th>\n",
       "      <th>left</th>\n",
       "      <th>promotion_last_5years</th>\n",
       "      <th>department_RandD</th>\n",
       "      <th>department_accounting</th>\n",
       "      <th>department_hr</th>\n",
       "      <th>department_management</th>\n",
       "      <th>department_marketing</th>\n",
       "      <th>department_product_mng</th>\n",
       "      <th>department_sales</th>\n",
       "      <th>department_support</th>\n",
       "      <th>department_technical</th>\n",
       "    </tr>\n",
       "  </thead>\n",
       "  <tbody>\n",
       "    <tr>\n",
       "      <th>6723</th>\n",
       "      <td>0.615385</td>\n",
       "      <td>0.937500</td>\n",
       "      <td>0.6</td>\n",
       "      <td>0.607477</td>\n",
       "      <td>0.000</td>\n",
       "      <td>1.0</td>\n",
       "      <td>0.0</td>\n",
       "      <td>0.0</td>\n",
       "      <td>0.0</td>\n",
       "      <td>0.0</td>\n",
       "      <td>0.0</td>\n",
       "      <td>0.0</td>\n",
       "      <td>1.0</td>\n",
       "      <td>0.0</td>\n",
       "      <td>0.0</td>\n",
       "      <td>0.0</td>\n",
       "      <td>0.0</td>\n",
       "    </tr>\n",
       "    <tr>\n",
       "      <th>6473</th>\n",
       "      <td>0.868132</td>\n",
       "      <td>0.687500</td>\n",
       "      <td>0.2</td>\n",
       "      <td>0.327103</td>\n",
       "      <td>0.000</td>\n",
       "      <td>0.0</td>\n",
       "      <td>0.0</td>\n",
       "      <td>0.0</td>\n",
       "      <td>0.0</td>\n",
       "      <td>0.0</td>\n",
       "      <td>0.0</td>\n",
       "      <td>0.0</td>\n",
       "      <td>0.0</td>\n",
       "      <td>0.0</td>\n",
       "      <td>0.0</td>\n",
       "      <td>0.0</td>\n",
       "      <td>0.0</td>\n",
       "    </tr>\n",
       "    <tr>\n",
       "      <th>4679</th>\n",
       "      <td>0.659341</td>\n",
       "      <td>0.968750</td>\n",
       "      <td>0.2</td>\n",
       "      <td>0.551402</td>\n",
       "      <td>0.000</td>\n",
       "      <td>0.0</td>\n",
       "      <td>0.0</td>\n",
       "      <td>0.0</td>\n",
       "      <td>0.0</td>\n",
       "      <td>0.0</td>\n",
       "      <td>0.0</td>\n",
       "      <td>0.0</td>\n",
       "      <td>0.0</td>\n",
       "      <td>0.0</td>\n",
       "      <td>1.0</td>\n",
       "      <td>0.0</td>\n",
       "      <td>0.0</td>\n",
       "    </tr>\n",
       "    <tr>\n",
       "      <th>862</th>\n",
       "      <td>0.351648</td>\n",
       "      <td>0.171875</td>\n",
       "      <td>0.0</td>\n",
       "      <td>0.271028</td>\n",
       "      <td>0.125</td>\n",
       "      <td>0.0</td>\n",
       "      <td>1.0</td>\n",
       "      <td>0.0</td>\n",
       "      <td>0.0</td>\n",
       "      <td>0.0</td>\n",
       "      <td>0.0</td>\n",
       "      <td>0.0</td>\n",
       "      <td>0.0</td>\n",
       "      <td>0.0</td>\n",
       "      <td>1.0</td>\n",
       "      <td>0.0</td>\n",
       "      <td>0.0</td>\n",
       "    </tr>\n",
       "    <tr>\n",
       "      <th>7286</th>\n",
       "      <td>0.857143</td>\n",
       "      <td>0.625000</td>\n",
       "      <td>0.6</td>\n",
       "      <td>0.738318</td>\n",
       "      <td>0.000</td>\n",
       "      <td>1.0</td>\n",
       "      <td>0.0</td>\n",
       "      <td>0.0</td>\n",
       "      <td>0.0</td>\n",
       "      <td>0.0</td>\n",
       "      <td>1.0</td>\n",
       "      <td>0.0</td>\n",
       "      <td>0.0</td>\n",
       "      <td>0.0</td>\n",
       "      <td>0.0</td>\n",
       "      <td>0.0</td>\n",
       "      <td>0.0</td>\n",
       "    </tr>\n",
       "  </tbody>\n",
       "</table>\n",
       "</div>"
      ],
      "text/plain": [
       "      satisfaction_level  last_evaluation  number_project  \\\n",
       "6723            0.615385         0.937500             0.6   \n",
       "6473            0.868132         0.687500             0.2   \n",
       "4679            0.659341         0.968750             0.2   \n",
       "862             0.351648         0.171875             0.0   \n",
       "7286            0.857143         0.625000             0.6   \n",
       "\n",
       "      average_montly_hours  time_spend_company  Work_accident  left  \\\n",
       "6723              0.607477               0.000            1.0   0.0   \n",
       "6473              0.327103               0.000            0.0   0.0   \n",
       "4679              0.551402               0.000            0.0   0.0   \n",
       "862               0.271028               0.125            0.0   1.0   \n",
       "7286              0.738318               0.000            1.0   0.0   \n",
       "\n",
       "      promotion_last_5years  department_RandD  department_accounting  \\\n",
       "6723                    0.0               0.0                    0.0   \n",
       "6473                    0.0               0.0                    0.0   \n",
       "4679                    0.0               0.0                    0.0   \n",
       "862                     0.0               0.0                    0.0   \n",
       "7286                    0.0               0.0                    0.0   \n",
       "\n",
       "      department_hr  department_management  department_marketing  \\\n",
       "6723            0.0                    0.0                   1.0   \n",
       "6473            0.0                    0.0                   0.0   \n",
       "4679            0.0                    0.0                   0.0   \n",
       "862             0.0                    0.0                   0.0   \n",
       "7286            1.0                    0.0                   0.0   \n",
       "\n",
       "      department_product_mng  department_sales  department_support  \\\n",
       "6723                     0.0               0.0                 0.0   \n",
       "6473                     0.0               0.0                 0.0   \n",
       "4679                     0.0               1.0                 0.0   \n",
       "862                      0.0               1.0                 0.0   \n",
       "7286                     0.0               0.0                 0.0   \n",
       "\n",
       "      department_technical  \n",
       "6723                   0.0  \n",
       "6473                   0.0  \n",
       "4679                   0.0  \n",
       "862                    0.0  \n",
       "7286                   0.0  "
      ]
     },
     "execution_count": 27,
     "metadata": {},
     "output_type": "execute_result"
    }
   ],
   "source": [
    "#Normalisation of X_test with minmax scaler\n",
    "X_test=pd.DataFrame(sc.transform(X_test),index=X_test.index,columns=X_test.columns)\n",
    "X_test.head()"
   ]
  },
  {
   "cell_type": "markdown",
   "id": "00a7d3d5",
   "metadata": {},
   "source": [
    "# ML Modeling"
   ]
  },
  {
   "cell_type": "markdown",
   "id": "8d0ab48d",
   "metadata": {},
   "source": [
    "## Random forest classifier"
   ]
  },
  {
   "cell_type": "code",
   "execution_count": 28,
   "id": "aaf98e3a",
   "metadata": {},
   "outputs": [],
   "source": [
    "from sklearn.ensemble import RandomForestClassifier\n",
    "from sklearn import metrics\n",
    "from sklearn.metrics import mean_squared_error,r2_score\n",
    "from sklearn.metrics import precision_score,accuracy_score,confusion_matrix,f1_score,recall_score\n",
    "\n",
    "rf = RandomForestClassifier(n_estimators = 100, random_state = 42)\n",
    "rf_model = rf.fit(X_train,y_train)\n",
    "predict = rf_model.predict(X_test)"
   ]
  },
  {
   "cell_type": "code",
   "execution_count": 29,
   "id": "c44a70ff",
   "metadata": {},
   "outputs": [
    {
     "name": "stdout",
     "output_type": "stream",
     "text": [
      "Accuracy is : 0.6028282828282828\n"
     ]
    }
   ],
   "source": [
    "acc_rf = accuracy_score(y_test,predict)\n",
    "print('Accuracy is :',acc_rf)"
   ]
  },
  {
   "cell_type": "markdown",
   "id": "03559bf0",
   "metadata": {},
   "source": [
    "## Decision tree classifier"
   ]
  },
  {
   "cell_type": "code",
   "execution_count": 30,
   "id": "5c19cecf",
   "metadata": {},
   "outputs": [],
   "source": [
    "from sklearn.tree import DecisionTreeClassifier\n",
    "\n",
    "dt = DecisionTreeClassifier(criterion= 'gini', max_depth= 5,\n",
    "                          min_samples_leaf= 2, min_samples_split= 3, splitter= 'best',\n",
    "                          random_state=22,class_weight={0:0.3 , 1:0.7})\n",
    "dt_model = dt.fit(X_train,y_train)\n",
    "predict = dt_model.predict(X_test)"
   ]
  },
  {
   "cell_type": "code",
   "execution_count": 31,
   "id": "bd1a0dfc",
   "metadata": {},
   "outputs": [
    {
     "name": "stdout",
     "output_type": "stream",
     "text": [
      "Accuracy is : 0.4765656565656566\n"
     ]
    }
   ],
   "source": [
    "acc_dt = accuracy_score(y_test,predict)\n",
    "print('Accuracy is :',acc_dt)"
   ]
  },
  {
   "cell_type": "markdown",
   "id": "f4107b79",
   "metadata": {},
   "source": [
    "## KNN Classifier"
   ]
  },
  {
   "cell_type": "code",
   "execution_count": 32,
   "id": "1cda6b78",
   "metadata": {},
   "outputs": [],
   "source": [
    "from sklearn.neighbors import KNeighborsClassifier\n",
    "\n",
    "KNN = KNeighborsClassifier(n_neighbors=4)\n",
    "knn_model = KNN.fit(X_train, y_train)\n",
    "predict = knn_model.predict(X_test)"
   ]
  },
  {
   "cell_type": "code",
   "execution_count": 33,
   "id": "42a07fbd",
   "metadata": {},
   "outputs": [
    {
     "name": "stdout",
     "output_type": "stream",
     "text": [
      "Accuracy is : 0.5125252525252525\n"
     ]
    }
   ],
   "source": [
    "acc_knn = accuracy_score(y_test,predict)\n",
    "print('Accuracy is :',acc_knn)"
   ]
  },
  {
   "cell_type": "markdown",
   "id": "4465d21e",
   "metadata": {},
   "source": [
    "## Gaussian Naive Bayes Algorithm"
   ]
  },
  {
   "cell_type": "code",
   "execution_count": 34,
   "id": "2ea88ffc",
   "metadata": {},
   "outputs": [],
   "source": [
    "from sklearn.naive_bayes import GaussianNB\n",
    "\n",
    "gnb = GaussianNB()\n",
    "gnb_model = gnb.fit(X_train, y_train)\n",
    "predict = gnb_model.predict(X_test)"
   ]
  },
  {
   "cell_type": "code",
   "execution_count": 35,
   "id": "3b1949b4",
   "metadata": {},
   "outputs": [
    {
     "name": "stdout",
     "output_type": "stream",
     "text": [
      "Accuracy is : 0.48808080808080806\n"
     ]
    }
   ],
   "source": [
    "acc_gnb = accuracy_score(y_test,predict)\n",
    "print('Accuracy is :',acc_gnb)"
   ]
  },
  {
   "cell_type": "markdown",
   "id": "75e75d06",
   "metadata": {},
   "source": [
    "# Cross Validation"
   ]
  },
  {
   "cell_type": "code",
   "execution_count": 36,
   "id": "8d749911",
   "metadata": {
    "scrolled": false
   },
   "outputs": [
    {
     "data": {
      "text/html": [
       "<div>\n",
       "<style scoped>\n",
       "    .dataframe tbody tr th:only-of-type {\n",
       "        vertical-align: middle;\n",
       "    }\n",
       "\n",
       "    .dataframe tbody tr th {\n",
       "        vertical-align: top;\n",
       "    }\n",
       "\n",
       "    .dataframe thead th {\n",
       "        text-align: right;\n",
       "    }\n",
       "</style>\n",
       "<table border=\"1\" class=\"dataframe\">\n",
       "  <thead>\n",
       "    <tr style=\"text-align: right;\">\n",
       "      <th></th>\n",
       "      <th>Classification Model</th>\n",
       "      <th>Accuracy Train_Test</th>\n",
       "    </tr>\n",
       "  </thead>\n",
       "  <tbody>\n",
       "    <tr>\n",
       "      <th>0</th>\n",
       "      <td>Random Forest Classifier</td>\n",
       "      <td>0.602828</td>\n",
       "    </tr>\n",
       "    <tr>\n",
       "      <th>1</th>\n",
       "      <td>KNN</td>\n",
       "      <td>0.512525</td>\n",
       "    </tr>\n",
       "    <tr>\n",
       "      <th>2</th>\n",
       "      <td>Gaussian Naive Bays</td>\n",
       "      <td>0.488081</td>\n",
       "    </tr>\n",
       "    <tr>\n",
       "      <th>3</th>\n",
       "      <td>Decision Tree</td>\n",
       "      <td>0.476566</td>\n",
       "    </tr>\n",
       "  </tbody>\n",
       "</table>\n",
       "</div>"
      ],
      "text/plain": [
       "       Classification Model  Accuracy Train_Test\n",
       "0  Random Forest Classifier             0.602828\n",
       "1                       KNN             0.512525\n",
       "2       Gaussian Naive Bays             0.488081\n",
       "3             Decision Tree             0.476566"
      ]
     },
     "execution_count": 36,
     "metadata": {},
     "output_type": "execute_result"
    }
   ],
   "source": [
    "models=[\"Random Forest Classifier\",\"Decision Tree\",\"KNN\",\"Gaussian Naive Bays\"]\n",
    "Accuracy_Train_Test = [acc_rf,acc_dt,acc_knn,acc_gnb]\n",
    "\n",
    "score= pd.DataFrame({\"Classification Model\" :models,\"Accuracy Train_Test\":Accuracy_Train_Test})\n",
    "score.sort_values(by= \"Accuracy Train_Test\",ascending=False).reset_index(drop=True)\n"
   ]
  },
  {
   "cell_type": "markdown",
   "id": "cfbdcfc3",
   "metadata": {},
   "source": [
    "## Fine Tuning"
   ]
  },
  {
   "cell_type": "code",
   "execution_count": 37,
   "id": "199a2bac",
   "metadata": {},
   "outputs": [
    {
     "name": "stdout",
     "output_type": "stream",
     "text": [
      "Parameters currently in use:\n",
      "\n",
      "{'bootstrap': True, 'ccp_alpha': 0.0, 'class_weight': None, 'criterion': 'gini', 'max_depth': None, 'max_features': 'auto', 'max_leaf_nodes': None, 'max_samples': None, 'min_impurity_decrease': 0.0, 'min_samples_leaf': 1, 'min_samples_split': 2, 'min_weight_fraction_leaf': 0.0, 'n_estimators': 100, 'n_jobs': None, 'oob_score': False, 'random_state': 42, 'verbose': 0, 'warm_start': False}\n"
     ]
    },
    {
     "data": {
      "text/plain": [
       "RandomForestClassifier(max_depth=1000, random_state=42)"
      ]
     },
     "execution_count": 37,
     "metadata": {},
     "output_type": "execute_result"
    }
   ],
   "source": [
    "#hyper parameter tuning\n",
    "\n",
    "print('Parameters currently in use:\\n')\n",
    "print(rf.get_params())\n",
    "\n",
    "rft=RandomForestClassifier(n_estimators=100,max_depth=1000,random_state=42,criterion='gini')\n",
    "rft.fit(X_train,y_train)"
   ]
  },
  {
   "cell_type": "code",
   "execution_count": 38,
   "id": "a7264e86",
   "metadata": {},
   "outputs": [
    {
     "name": "stdout",
     "output_type": "stream",
     "text": [
      "Accuracy score is: 0.6028282828282828\n"
     ]
    }
   ],
   "source": [
    "pred=rft.predict(X_test)\n",
    "accuracy_score(y_test,pred)\n",
    "print('Accuracy score is:', accuracy_score(y_test,pred))"
   ]
  },
  {
   "cell_type": "code",
   "execution_count": 39,
   "id": "8355f5e3",
   "metadata": {
    "scrolled": true
   },
   "outputs": [
    {
     "name": "stdout",
     "output_type": "stream",
     "text": [
      "              precision    recall  f1-score   support\n",
      "\n",
      "           0       0.22      0.18      0.20       406\n",
      "           1       0.51      0.88      0.64      2416\n",
      "           2       0.48      0.10      0.17      2128\n",
      "\n",
      "    accuracy                           0.49      4950\n",
      "   macro avg       0.41      0.39      0.34      4950\n",
      "weighted avg       0.47      0.49      0.40      4950\n",
      "\n"
     ]
    }
   ],
   "source": [
    "from sklearn.metrics import confusion_matrix , classification_report\n",
    "print(classification_report(y_test , predict))"
   ]
  },
  {
   "cell_type": "code",
   "execution_count": 40,
   "id": "afc09fbf",
   "metadata": {},
   "outputs": [],
   "source": [
    "#feature inportance\n",
    "def plot_features(columns, importances, n=20):\n",
    "    df1 = (pd.DataFrame({\"features\": columns,\n",
    "                        \"feature_importances\": importances})\n",
    "          .sort_values(\"feature_importances\", ascending=False)\n",
    "          .reset_index(drop=True))\n",
    "    \n",
    "# Plot the dataframe\n",
    "    fig, ax = plt.subplots()\n",
    "    ax.barh(df1[\"features\"][:n], df1[\"feature_importances\"][:20])\n",
    "    ax.set_ylabel(\"Features\")\n",
    "    ax.set_xlabel(\"Feature importance\")\n",
    "    ax.invert_yaxis()"
   ]
  },
  {
   "cell_type": "code",
   "execution_count": 41,
   "id": "9feebd80",
   "metadata": {},
   "outputs": [
    {
     "data": {
      "text/plain": [
       "array([0.22733067, 0.23114417, 0.06609174, 0.26970316, 0.07060166,\n",
       "       0.02113297, 0.0107005 , 0.00694496, 0.0088822 , 0.00811572,\n",
       "       0.00828417, 0.01205426, 0.00933356, 0.00954278, 0.01455006,\n",
       "       0.01238771, 0.01319971])"
      ]
     },
     "execution_count": 41,
     "metadata": {},
     "output_type": "execute_result"
    }
   ],
   "source": [
    "rft.feature_importances_"
   ]
  },
  {
   "cell_type": "code",
   "execution_count": 42,
   "id": "d4c618da",
   "metadata": {
    "scrolled": true
   },
   "outputs": [
    {
     "data": {
      "image/png": "[encoded data removed]",
      "text/plain": [
       "<Figure size 432x288 with 1 Axes>"
      ]
     },
     "metadata": {
      "needs_background": "light"
     },
     "output_type": "display_data"
    }
   ],
   "source": [
    "plot_features(X_train.columns,rft.feature_importances_)"
   ]
  },
  {
   "cell_type": "code",
   "execution_count": 43,
   "id": "129389c2",
   "metadata": {},
   "outputs": [
    {
     "name": "stdout",
     "output_type": "stream",
     "text": [
      "Requirement already satisfied: explainerdashboard in c:\\users\\munee\\anaconda3\\lib\\site-packages (0.3.8.2)\n",
      "Requirement already satisfied: waitress in c:\\users\\munee\\anaconda3\\lib\\site-packages (from explainerdashboard) (2.1.2)\n",
      "Requirement already satisfied: dash-bootstrap-components<1 in c:\\users\\munee\\anaconda3\\lib\\site-packages (from explainerdashboard) (0.13.1)\n",
      "Requirement already satisfied: Werkzeug<=2.0.3 in c:\\users\\munee\\anaconda3\\lib\\site-packages (from explainerdashboard) (2.0.3)\n",
      "Requirement already satisfied: dtreeviz>=1.3 in c:\\users\\munee\\anaconda3\\lib\\site-packages (from explainerdashboard) (1.3.6)\n",
      "Requirement already satisfied: dash>=2 in c:\\users\\munee\\anaconda3\\lib\\site-packages (from explainerdashboard) (2.5.0)\n",
      "Requirement already satisfied: flask-simplelogin in c:\\users\\munee\\anaconda3\\lib\\site-packages (from explainerdashboard) (0.1.1)\n",
      "Requirement already satisfied: numpy in c:\\users\\munee\\anaconda3\\lib\\site-packages (from explainerdashboard) (1.21.5)\n",
      "Requirement already satisfied: graphviz>=0.18.2 in c:\\users\\munee\\anaconda3\\lib\\site-packages (from explainerdashboard) (0.20)\n",
      "Requirement already satisfied: click in c:\\users\\munee\\anaconda3\\lib\\site-packages (from explainerdashboard) (8.0.4)\n",
      "Requirement already satisfied: oyaml in c:\\users\\munee\\anaconda3\\lib\\site-packages (from explainerdashboard) (1.0)\n",
      "Requirement already satisfied: shap>=0.37 in c:\\users\\munee\\anaconda3\\lib\\site-packages (from explainerdashboard) (0.40.0)\n",
      "Requirement already satisfied: jupyter-dash in c:\\users\\munee\\anaconda3\\lib\\site-packages (from explainerdashboard) (0.4.2)\n",
      "Requirement already satisfied: dash-auth in c:\\users\\munee\\anaconda3\\lib\\site-packages (from explainerdashboard) (1.4.1)\n",
      "Requirement already satisfied: scikit-learn in c:\\users\\munee\\anaconda3\\lib\\site-packages (from explainerdashboard) (1.0.2)\n",
      "Requirement already satisfied: pandas>=1.1 in c:\\users\\munee\\anaconda3\\lib\\site-packages (from explainerdashboard) (1.4.2)\n",
      "Requirement already satisfied: joblib in c:\\users\\munee\\anaconda3\\lib\\site-packages (from explainerdashboard) (1.1.0)\n",
      "Requirement already satisfied: flask-compress in c:\\users\\munee\\anaconda3\\lib\\site-packages (from dash>=2->explainerdashboard) (1.12)\n",
      "Requirement already satisfied: dash-core-components==2.0.0 in c:\\users\\munee\\anaconda3\\lib\\site-packages (from dash>=2->explainerdashboard) (2.0.0)\n",
      "Requirement already satisfied: dash-html-components==2.0.0 in c:\\users\\munee\\anaconda3\\lib\\site-packages (from dash>=2->explainerdashboard) (2.0.0)\n",
      "Requirement already satisfied: dash-table==5.0.0 in c:\\users\\munee\\anaconda3\\lib\\site-packages (from dash>=2->explainerdashboard) (5.0.0)\n",
      "Requirement already satisfied: plotly>=5.0.0 in c:\\users\\munee\\anaconda3\\lib\\site-packages (from dash>=2->explainerdashboard) (5.6.0)\n",
      "Requirement already satisfied: Flask>=1.0.4 in c:\\users\\munee\\anaconda3\\lib\\site-packages (from dash>=2->explainerdashboard) (1.1.2)\n",
      "Requirement already satisfied: colour in c:\\users\\munee\\anaconda3\\lib\\site-packages (from dtreeviz>=1.3->explainerdashboard) (0.1.5)\n",
      "Requirement already satisfied: matplotlib in c:\\users\\munee\\anaconda3\\lib\\site-packages (from dtreeviz>=1.3->explainerdashboard) (3.5.1)\n",
      "Requirement already satisfied: pytest in c:\\users\\munee\\anaconda3\\lib\\site-packages (from dtreeviz>=1.3->explainerdashboard) (7.1.1)\n",
      "Requirement already satisfied: Jinja2>=2.10.1 in c:\\users\\munee\\anaconda3\\lib\\site-packages (from Flask>=1.0.4->dash>=2->explainerdashboard) (2.11.3)\n",
      "Requirement already satisfied: itsdangerous>=0.24 in c:\\users\\munee\\anaconda3\\lib\\site-packages (from Flask>=1.0.4->dash>=2->explainerdashboard) (2.0.1)\n",
      "Requirement already satisfied: colorama in c:\\users\\munee\\anaconda3\\lib\\site-packages (from click->explainerdashboard) (0.4.4)\n",
      "Requirement already satisfied: MarkupSafe>=0.23 in c:\\users\\munee\\anaconda3\\lib\\site-packages (from Jinja2>=2.10.1->Flask>=1.0.4->dash>=2->explainerdashboard) (2.0.1)\n",
      "Requirement already satisfied: python-dateutil>=2.8.1 in c:\\users\\munee\\anaconda3\\lib\\site-packages (from pandas>=1.1->explainerdashboard) (2.8.2)\n",
      "Requirement already satisfied: pytz>=2020.1 in c:\\users\\munee\\anaconda3\\lib\\site-packages (from pandas>=1.1->explainerdashboard) (2021.3)\n",
      "Requirement already satisfied: tenacity>=6.2.0 in c:\\users\\munee\\anaconda3\\lib\\site-packages (from plotly>=5.0.0->dash>=2->explainerdashboard) (8.0.1)\n",
      "Requirement already satisfied: six in c:\\users\\munee\\anaconda3\\lib\\site-packages (from plotly>=5.0.0->dash>=2->explainerdashboard) (1.16.0)\n",
      "Requirement already satisfied: scipy in c:\\users\\munee\\anaconda3\\lib\\site-packages (from shap>=0.37->explainerdashboard) (1.7.3)\n",
      "Requirement already satisfied: numba in c:\\users\\munee\\anaconda3\\lib\\site-packages (from shap>=0.37->explainerdashboard) (0.55.1)\n",
      "Requirement already satisfied: tqdm>4.25.0 in c:\\users\\munee\\anaconda3\\lib\\site-packages (from shap>=0.37->explainerdashboard) (4.64.0)\n",
      "Requirement already satisfied: slicer==0.0.7 in c:\\users\\munee\\anaconda3\\lib\\site-packages (from shap>=0.37->explainerdashboard) (0.0.7)\n",
      "Requirement already satisfied: packaging>20.9 in c:\\users\\munee\\anaconda3\\lib\\site-packages (from shap>=0.37->explainerdashboard) (21.3)\n",
      "Requirement already satisfied: cloudpickle in c:\\users\\munee\\anaconda3\\lib\\site-packages (from shap>=0.37->explainerdashboard) (2.0.0)\n",
      "Requirement already satisfied: pyparsing!=3.0.5,>=2.0.2 in c:\\users\\munee\\anaconda3\\lib\\site-packages (from packaging>20.9->shap>=0.37->explainerdashboard) (3.0.4)\n",
      "Requirement already satisfied: flask-seasurf in c:\\users\\munee\\anaconda3\\lib\\site-packages (from dash-auth->explainerdashboard) (1.1.1)\n",
      "Requirement already satisfied: ua-parser in c:\\users\\munee\\anaconda3\\lib\\site-packages (from dash-auth->explainerdashboard) (0.10.0)\n",
      "Requirement already satisfied: retrying in c:\\users\\munee\\anaconda3\\lib\\site-packages (from dash-auth->explainerdashboard) (1.3.3)\n",
      "Requirement already satisfied: requests in c:\\users\\munee\\anaconda3\\lib\\site-packages (from dash-auth->explainerdashboard) (2.27.1)\n",
      "Requirement already satisfied: chart-studio>=1.0.0 in c:\\users\\munee\\anaconda3\\lib\\site-packages (from dash-auth->explainerdashboard) (1.1.0)\n",
      "Requirement already satisfied: brotli in c:\\users\\munee\\anaconda3\\lib\\site-packages (from flask-compress->dash>=2->explainerdashboard) (1.0.9)\n",
      "Requirement already satisfied: Flask-WTF<0.16.0,>=0.15.1 in c:\\users\\munee\\anaconda3\\lib\\site-packages (from flask-simplelogin->explainerdashboard) (0.15.1)\n",
      "Requirement already satisfied: WTForms>=2.1 in c:\\users\\munee\\anaconda3\\lib\\site-packages (from flask-simplelogin->explainerdashboard) (3.0.1)\n",
      "Requirement already satisfied: ipython in c:\\users\\munee\\anaconda3\\lib\\site-packages (from jupyter-dash->explainerdashboard) (8.2.0)\n",
      "Requirement already satisfied: nest-asyncio in c:\\users\\munee\\anaconda3\\lib\\site-packages (from jupyter-dash->explainerdashboard) (1.5.5)\n",
      "Requirement already satisfied: ipykernel in c:\\users\\munee\\anaconda3\\lib\\site-packages (from jupyter-dash->explainerdashboard) (6.9.1)\n",
      "Requirement already satisfied: ansi2html in c:\\users\\munee\\anaconda3\\lib\\site-packages (from jupyter-dash->explainerdashboard) (1.7.0)\n",
      "Requirement already satisfied: debugpy<2.0,>=1.0.0 in c:\\users\\munee\\anaconda3\\lib\\site-packages (from ipykernel->jupyter-dash->explainerdashboard) (1.5.1)\n",
      "Requirement already satisfied: matplotlib-inline<0.2.0,>=0.1.0 in c:\\users\\munee\\anaconda3\\lib\\site-packages (from ipykernel->jupyter-dash->explainerdashboard) (0.1.2)\n",
      "Requirement already satisfied: jupyter-client<8.0 in c:\\users\\munee\\anaconda3\\lib\\site-packages (from ipykernel->jupyter-dash->explainerdashboard) (6.1.12)\n",
      "Requirement already satisfied: traitlets<6.0,>=5.1.0 in c:\\users\\munee\\anaconda3\\lib\\site-packages (from ipykernel->jupyter-dash->explainerdashboard) (5.1.1)\n",
      "Requirement already satisfied: tornado<7.0,>=4.2 in c:\\users\\munee\\anaconda3\\lib\\site-packages (from ipykernel->jupyter-dash->explainerdashboard) (6.1)\n",
      "Requirement already satisfied: prompt-toolkit!=3.0.0,!=3.0.1,<3.1.0,>=2.0.0 in c:\\users\\munee\\anaconda3\\lib\\site-packages (from ipython->jupyter-dash->explainerdashboard) (3.0.20)\n",
      "Requirement already satisfied: backcall in c:\\users\\munee\\anaconda3\\lib\\site-packages (from ipython->jupyter-dash->explainerdashboard) (0.2.0)\n",
      "Requirement already satisfied: pygments>=2.4.0 in c:\\users\\munee\\anaconda3\\lib\\site-packages (from ipython->jupyter-dash->explainerdashboard) (2.11.2)\n",
      "Requirement already satisfied: decorator in c:\\users\\munee\\anaconda3\\lib\\site-packages (from ipython->jupyter-dash->explainerdashboard) (5.1.1)\n",
      "Requirement already satisfied: setuptools>=18.5 in c:\\users\\munee\\anaconda3\\lib\\site-packages (from ipython->jupyter-dash->explainerdashboard) (61.2.0)\n",
      "Requirement already satisfied: stack-data in c:\\users\\munee\\anaconda3\\lib\\site-packages (from ipython->jupyter-dash->explainerdashboard) (0.2.0)\n",
      "Requirement already satisfied: pickleshare in c:\\users\\munee\\anaconda3\\lib\\site-packages (from ipython->jupyter-dash->explainerdashboard) (0.7.5)\n",
      "Requirement already satisfied: jedi>=0.16 in c:\\users\\munee\\anaconda3\\lib\\site-packages (from ipython->jupyter-dash->explainerdashboard) (0.18.1)\n",
      "Requirement already satisfied: parso<0.9.0,>=0.8.0 in c:\\users\\munee\\anaconda3\\lib\\site-packages (from jedi>=0.16->ipython->jupyter-dash->explainerdashboard) (0.8.3)\n",
      "Requirement already satisfied: jupyter-core>=4.6.0 in c:\\users\\munee\\anaconda3\\lib\\site-packages (from jupyter-client<8.0->ipykernel->jupyter-dash->explainerdashboard) (4.9.2)\n",
      "Requirement already satisfied: pyzmq>=13 in c:\\users\\munee\\anaconda3\\lib\\site-packages (from jupyter-client<8.0->ipykernel->jupyter-dash->explainerdashboard) (22.3.0)\n",
      "Requirement already satisfied: pywin32>=1.0 in c:\\users\\munee\\anaconda3\\lib\\site-packages (from jupyter-core>=4.6.0->jupyter-client<8.0->ipykernel->jupyter-dash->explainerdashboard) (302)\n",
      "Requirement already satisfied: wcwidth in c:\\users\\munee\\anaconda3\\lib\\site-packages (from prompt-toolkit!=3.0.0,!=3.0.1,<3.1.0,>=2.0.0->ipython->jupyter-dash->explainerdashboard) (0.2.5)\n",
      "Requirement already satisfied: pillow>=6.2.0 in c:\\users\\munee\\anaconda3\\lib\\site-packages (from matplotlib->dtreeviz>=1.3->explainerdashboard) (9.0.1)\n",
      "Requirement already satisfied: kiwisolver>=1.0.1 in c:\\users\\munee\\anaconda3\\lib\\site-packages (from matplotlib->dtreeviz>=1.3->explainerdashboard) (1.3.2)\n",
      "Requirement already satisfied: cycler>=0.10 in c:\\users\\munee\\anaconda3\\lib\\site-packages (from matplotlib->dtreeviz>=1.3->explainerdashboard) (0.11.0)\n",
      "Requirement already satisfied: fonttools>=4.22.0 in c:\\users\\munee\\anaconda3\\lib\\site-packages (from matplotlib->dtreeviz>=1.3->explainerdashboard) (4.25.0)\n",
      "Requirement already satisfied: llvmlite<0.39,>=0.38.0rc1 in c:\\users\\munee\\anaconda3\\lib\\site-packages (from numba->shap>=0.37->explainerdashboard) (0.38.0)\n",
      "Requirement already satisfied: pyyaml in c:\\users\\munee\\anaconda3\\lib\\site-packages (from oyaml->explainerdashboard) (6.0)\n",
      "Requirement already satisfied: attrs>=19.2.0 in c:\\users\\munee\\anaconda3\\lib\\site-packages (from pytest->dtreeviz>=1.3->explainerdashboard) (21.4.0)\n",
      "Requirement already satisfied: iniconfig in c:\\users\\munee\\anaconda3\\lib\\site-packages (from pytest->dtreeviz>=1.3->explainerdashboard) (1.1.1)\n",
      "Requirement already satisfied: pluggy<2.0,>=0.12 in c:\\users\\munee\\anaconda3\\lib\\site-packages (from pytest->dtreeviz>=1.3->explainerdashboard) (1.0.0)\n",
      "Requirement already satisfied: py>=1.8.2 in c:\\users\\munee\\anaconda3\\lib\\site-packages (from pytest->dtreeviz>=1.3->explainerdashboard) (1.11.0)\n",
      "Requirement already satisfied: tomli>=1.0.0 in c:\\users\\munee\\anaconda3\\lib\\site-packages (from pytest->dtreeviz>=1.3->explainerdashboard) (1.2.2)\n",
      "Requirement already satisfied: atomicwrites>=1.0 in c:\\users\\munee\\anaconda3\\lib\\site-packages (from pytest->dtreeviz>=1.3->explainerdashboard) (1.4.0)\n",
      "Requirement already satisfied: certifi>=2017.4.17 in c:\\users\\munee\\anaconda3\\lib\\site-packages (from requests->dash-auth->explainerdashboard) (2021.10.8)\n",
      "Requirement already satisfied: idna<4,>=2.5 in c:\\users\\munee\\anaconda3\\lib\\site-packages (from requests->dash-auth->explainerdashboard) (3.3)\n",
      "Requirement already satisfied: urllib3<1.27,>=1.21.1 in c:\\users\\munee\\anaconda3\\lib\\site-packages (from requests->dash-auth->explainerdashboard) (1.26.9)\n",
      "Requirement already satisfied: charset-normalizer~=2.0.0 in c:\\users\\munee\\anaconda3\\lib\\site-packages (from requests->dash-auth->explainerdashboard) (2.0.4)\n",
      "Requirement already satisfied: threadpoolctl>=2.0.0 in c:\\users\\munee\\anaconda3\\lib\\site-packages (from scikit-learn->explainerdashboard) (2.2.0)\n",
      "Requirement already satisfied: pure-eval in c:\\users\\munee\\anaconda3\\lib\\site-packages (from stack-data->ipython->jupyter-dash->explainerdashboard) (0.2.2)\n",
      "Requirement already satisfied: executing in c:\\users\\munee\\anaconda3\\lib\\site-packages (from stack-data->ipython->jupyter-dash->explainerdashboard) (0.8.3)\n",
      "Requirement already satisfied: asttokens in c:\\users\\munee\\anaconda3\\lib\\site-packages (from stack-data->ipython->jupyter-dash->explainerdashboard) (2.0.5)\n",
      "Note: you may need to restart the kernel to use updated packages.\n"
     ]
    }
   ],
   "source": [
    "pip install explainerdashboard"
   ]
  },
  {
   "cell_type": "code",
   "execution_count": 49,
   "id": "3bd642c6",
   "metadata": {
    "scrolled": true
   },
   "outputs": [
    {
     "name": "stdout",
     "output_type": "stream",
     "text": [
      "Detected RandomForestClassifier model: Changing class type to RandomForestClassifierExplainer...\n",
      "Note: model_output=='probability', so assuming that raw shap output of RandomForestClassifier is in probability space...\n",
      "Generating self.shap_explainer = shap.TreeExplainer(model)\n"
     ]
    }
   ],
   "source": [
    "from explainerdashboard import ClassifierExplainer, ExplainerDashboard\n",
    "explainer = ClassifierExplainer(rft, X_test, y_test)"
   ]
  },
  {
   "cell_type": "code",
   "execution_count": 45,
   "id": "4ea66b74",
   "metadata": {},
   "outputs": [],
   "source": [
    "from explainerdashboard import InlineExplainer\n"
   ]
  },
  {
   "cell_type": "code",
   "execution_count": 50,
   "id": "2cb72f55",
   "metadata": {},
   "outputs": [
    {
     "name": "stdout",
     "output_type": "stream",
     "text": [
      "Detected RandomForestClassifier model: Changing class type to RandomForestClassifierExplainer...\n",
      "Note: model_output=='probability', so assuming that raw shap output of RandomForestClassifier is in probability space...\n",
      "Generating self.shap_explainer = shap.TreeExplainer(model)\n"
     ]
    }
   ],
   "source": [
    "explainer = ClassifierExplainer(rft, X_test, y_test)\n"
   ]
  },
  {
   "cell_type": "code",
   "execution_count": 61,
   "id": "016fb346",
   "metadata": {
    "scrolled": false
   },
   "outputs": [
    {
     "data": {
      "text/html": [
       "\n",
       "        <iframe\n",
       "            width=\"1000\"\n",
       "            height=\"800\"\n",
       "            src=\"http://127.0.0.1:8050/\"\n",
       "            frameborder=\"0\"\n",
       "            allowfullscreen\n",
       "            \n",
       "        ></iframe>\n",
       "        "
      ],
      "text/plain": [
       "<IPython.lib.display.IFrame at 0x1855a719fa0>"
      ]
     },
     "metadata": {},
     "output_type": "display_data"
    },
    {
     "name": "stdout",
     "output_type": "stream",
     "text": [
      "Calculating metrics...\n",
      "Calculating confusion matrices...\n",
      "Calculating roc auc curves...\n",
      "Calculating pr auc curves...\n",
      "Calculating liftcurve_dfs...\n"
     ]
    }
   ],
   "source": [
    "InlineExplainer(explainer).model_stats()"
   ]
  },
  {
   "cell_type": "code",
   "execution_count": 62,
   "id": "73deada2",
   "metadata": {},
   "outputs": [
    {
     "data": {
      "text/html": [
       "\n",
       "        <iframe\n",
       "            width=\"1000\"\n",
       "            height=\"800\"\n",
       "            src=\"http://127.0.0.1:8050/\"\n",
       "            frameborder=\"0\"\n",
       "            allowfullscreen\n",
       "            \n",
       "        ></iframe>\n",
       "        "
      ],
      "text/plain": [
       "<IPython.lib.display.IFrame at 0x18557f09280>"
      ]
     },
     "metadata": {},
     "output_type": "display_data"
    }
   ],
   "source": [
    "InlineExplainer(explainer).shap.dependence()"
   ]
  },
  {
   "cell_type": "code",
   "execution_count": null,
   "id": "4790b3ca",
   "metadata": {},
   "outputs": [],
   "source": []
  }
 ],
 "metadata": {
  "kernelspec": {
   "display_name": "Python 3 (ipykernel)",
   "language": "python",
   "name": "python3"
  },
  "language_info": {
   "codemirror_mode": {
    "name": "ipython",
    "version": 3
   },
   "file_extension": ".py",
   "mimetype": "text/x-python",
   "name": "python",
   "nbconvert_exporter": "python",
   "pygments_lexer": "ipython3",
   "version": "3.9.12"
  }
 },
 "nbformat": 4,
 "nbformat_minor": 5
}
